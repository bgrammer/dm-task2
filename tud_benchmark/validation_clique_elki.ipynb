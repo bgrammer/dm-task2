{
 "cells": [
  {
   "cell_type": "markdown",
   "id": "25967e4a",
   "metadata": {},
   "source": [
    "# Validation with ELKI"
   ]
  },
  {
   "cell_type": "markdown",
   "id": "b334e8b0",
   "metadata": {},
   "source": [
    "We have written an interface to the ELKI CLIQUE implementation, contained in the compare_elki.py file. The main difficulty for adhering to the usual X,y_pred output format of Sklearn is that ELKI CLIQUE provides multiple overlapping clustering outputs. Since we get all clusterings for all subdimensional spaces, the list of outputs can become quite long. For testing our implementation, we used standard benchmarking sets from the Elki homepage."
   ]
  },
  {
   "cell_type": "code",
   "execution_count": 2,
   "id": "2e95606f",
   "metadata": {},
   "outputs": [],
   "source": [
    "import os\n",
    "import re\n",
    "import csv\n",
    "from subprocess import Popen, PIPE\n",
    "import numpy as np\n",
    "import matplotlib.pyplot as plt\n",
    "from sklearn.metrics import normalized_mutual_info_score as nmi\n",
    "from collections import defaultdict\n",
    "from clique import Clique\n",
    "from compare_elki import compare_elki"
   ]
  },
  {
   "cell_type": "markdown",
   "id": "f1740beb",
   "metadata": {},
   "source": [
    "## Dataset 1"
   ]
  },
  {
   "cell_type": "code",
   "execution_count": 3,
   "id": "6e5d6956",
   "metadata": {},
   "outputs": [
    {
     "name": "stdout",
     "output_type": "stream",
     "text": [
      "--2022-11-26 01:53:02--  http://elki.dbs.ifi.lmu.de/datasets/snn/all-relevant/10d.csv.gz\n",
      "Resolving elki.dbs.ifi.lmu.de (elki.dbs.ifi.lmu.de)... 129.187.228.14\n",
      "Connecting to elki.dbs.ifi.lmu.de (elki.dbs.ifi.lmu.de)|129.187.228.14|:80... connected.\n",
      "HTTP request sent, awaiting response... 200 OK\n",
      "Length: 909881 (889K) [application/octet-stream]\n",
      "Saving to: ‘10d.csv.gz’\n",
      "\n",
      "10d.csv.gz          100%[===================>] 888.56K  2.79MB/s    in 0.3s    \n",
      "\n",
      "2022-11-26 01:53:03 (2.79 MB/s) - ‘10d.csv.gz’ saved [909881/909881]\n",
      "\n"
     ]
    }
   ],
   "source": [
    "!wget http://elki.dbs.ifi.lmu.de/datasets/snn/all-relevant/10d.csv.gz"
   ]
  },
  {
   "cell_type": "code",
   "execution_count": 4,
   "id": "e95a92f6",
   "metadata": {},
   "outputs": [],
   "source": [
    "!gzip -d 10d.csv.gz"
   ]
  },
  {
   "cell_type": "code",
   "execution_count": 4,
   "id": "9b6e87bf",
   "metadata": {},
   "outputs": [],
   "source": [
    "X = np.empty((10000, 10))\n",
    "Y = np.empty((10000, 1), dtype= int)\n",
    "with open('10d.csv') as csvfile:\n",
    "    reader = csv.reader(csvfile, delimiter=' ')\n",
    "    for i, row in enumerate(reader):\n",
    "        X[i] = np.array(row[:-1], dtype=np.float32)\n",
    "        Y[i] = np.array(row[-1][1:])"
   ]
  },
  {
   "cell_type": "code",
   "execution_count": 5,
   "id": "61dbbfca",
   "metadata": {},
   "outputs": [],
   "source": [
    "for i, arr in enumerate(X):\n",
    "    X[i] = np.round(arr, 5)"
   ]
  },
  {
   "cell_type": "code",
   "execution_count": 6,
   "id": "f40d2624",
   "metadata": {},
   "outputs": [],
   "source": [
    "elki_output, nmis, res, res_implem = compare_elki(10, 0.3, X)"
   ]
  },
  {
   "cell_type": "code",
   "execution_count": 7,
   "id": "2b87f6e2",
   "metadata": {},
   "outputs": [
    {
     "name": "stdout",
     "output_type": "stream",
     "text": [
      "Average nmi of our clustering compared to elki: 0.9988146811589667\n"
     ]
    }
   ],
   "source": [
    "print(f\"Average nmi of our clustering compared to elki: {np.mean(nmis)}\")"
   ]
  },
  {
   "cell_type": "markdown",
   "id": "5d07a7b6",
   "metadata": {},
   "source": [
    "### Why is the nmi not 1.0?"
   ]
  },
  {
   "cell_type": "markdown",
   "id": "b3465509",
   "metadata": {},
   "source": [
    "Lets have a look at the list of all nmis for dataset 1.\n"
   ]
  },
  {
   "cell_type": "code",
   "execution_count": 18,
   "id": "0c80e2af",
   "metadata": {},
   "outputs": [
    {
     "data": {
      "text/plain": [
       "[1.0,\n",
       " 0.9983915697391257,\n",
       " 1.0,\n",
       " 0.9984136803318849,\n",
       " 0.9984271459381863,\n",
       " 0.998503250330325,\n",
       " 0.9986140838724291,\n",
       " 0.9972094815527658,\n",
       " 1.0,\n",
       " 0.9985875998249507]"
      ]
     },
     "execution_count": 18,
     "metadata": {},
     "output_type": "execute_result"
    }
   ],
   "source": [
    "nmis"
   ]
  },
  {
   "cell_type": "markdown",
   "id": "1ee02e80",
   "metadata": {},
   "source": [
    "We can see that in some subspaces the clustering is exactly equal, while in other some points are misclassified. So what is the reason for this differences?"
   ]
  },
  {
   "cell_type": "markdown",
   "id": "4e96ab08",
   "metadata": {},
   "source": [
    "Here we choose one subspace where the nmi is not equal to 1 and just search through the cluster predictions to find the differing one. Since only one point is misclassified in this subspace we get as result the single point 6004. According to ELKI this point is in a cluster. Meanwhile in our algorithm it is declared as noise."
   ]
  },
  {
   "cell_type": "code",
   "execution_count": 19,
   "id": "df077e97",
   "metadata": {},
   "outputs": [
    {
     "name": "stdout",
     "output_type": "stream",
     "text": [
      "6004. point: 0, -1\n"
     ]
    }
   ],
   "source": [
    "idx = 0\n",
    "for i, j in zip(res[frozenset({6})], res_implem[frozenset({6})]):\n",
    "    if i != j:\n",
    "        print(f\"{idx}. point: {i}, {j}\")\n",
    "    idx += 1"
   ]
  },
  {
   "cell_type": "markdown",
   "id": "ea2045b3",
   "metadata": {},
   "source": [
    "One useful tool of using ELKI's CLIQUE algorithm is that you can see the dense units which are contained in each cluster in the output. As we can see the cluster in subspace 6 of our example contains 2 dense units that span the range between -0.0826 and 0.9484. If we search for the value of our point 6004 in the corresponding dimension we find the value 0.94832 which is very close to the upper bound of our cluster. Summing up points that are right at the edges of a cluster can rarely be misclassified by our algorithm."
   ]
  },
  {
   "cell_type": "code",
   "execution_count": 20,
   "id": "de20ccfa",
   "metadata": {},
   "outputs": [
    {
     "data": {
      "text/plain": [
       "array([-0.20027,  0.46546,  0.7094 ,  1.67448,  0.77875,  0.11428,\n",
       "        0.94832, -0.26773,  1.0974 , -0.22633])"
      ]
     },
     "execution_count": 20,
     "metadata": {},
     "output_type": "execute_result"
    }
   ],
   "source": [
    "X[6004]"
   ]
  },
  {
   "cell_type": "code",
   "execution_count": 16,
   "id": "7bb3902c",
   "metadata": {},
   "outputs": [
    {
     "name": "stdout",
     "output_type": "stream",
     "text": [
      "7]\n",
      "# Coverage: 7289\n",
      "# Units: \n",
      "#    d6:[-0.0826; 0.4329)   3364 objects\n",
      "#    d6:[0.4329; 0.9484)   3925 objects\n",
      "\n"
     ]
    }
   ],
   "source": [
    "for cluster in elki_output.split(\"Dimensions: [\"):\n",
    "    if cluster.startswith('7'):\n",
    "        print(cluster[:111])"
   ]
  },
  {
   "cell_type": "markdown",
   "id": "30ccfed4",
   "metadata": {},
   "source": [
    "## Dataset 2"
   ]
  },
  {
   "cell_type": "code",
   "execution_count": null,
   "id": "cbd20799",
   "metadata": {},
   "outputs": [],
   "source": [
    "!wget https://github.com/elki-project/elki/raw/master/data/synthetic/ABC-publication/pov.csv"
   ]
  },
  {
   "cell_type": "code",
   "execution_count": 46,
   "id": "9c9aa32c",
   "metadata": {},
   "outputs": [],
   "source": [
    "X_pov = np.empty((150, 2))\n",
    "Y_pov = np.empty((150, 1), dtype = int)\n",
    "\n",
    "with open('pov.csv') as csvfile: \n",
    "    reader = csv.reader(csvfile, delimiter=' ')\n",
    "    i = 0\n",
    "    for row in reader:\n",
    "        if row[0].startswith('#'):\n",
    "            continue\n",
    "        X_pov[i] = np.array(row[:-1], dtype=np.float32)\n",
    "        Y_pov[i] = np.array(row[-1][-1])\n",
    "        i += 1"
   ]
  },
  {
   "cell_type": "code",
   "execution_count": 47,
   "id": "a1e00f51",
   "metadata": {},
   "outputs": [],
   "source": [
    "for i, row in enumerate(X_pov):\n",
    "    X_pov[i] = np.round(row, 6)"
   ]
  },
  {
   "cell_type": "code",
   "execution_count": 48,
   "id": "05fd392f",
   "metadata": {},
   "outputs": [],
   "source": [
    "_, nmis, _, _ = compare_elki(10, 0.2, X_pov)"
   ]
  },
  {
   "cell_type": "code",
   "execution_count": 49,
   "id": "bcb50444",
   "metadata": {},
   "outputs": [
    {
     "name": "stdout",
     "output_type": "stream",
     "text": [
      "Average nmi of our clustering compared to elki: 1.0\n"
     ]
    }
   ],
   "source": [
    "print(f\"Average nmi of our clustering compared to elki: {np.mean(nmis)}\")"
   ]
  },
  {
   "cell_type": "markdown",
   "id": "16ccdb43",
   "metadata": {},
   "source": [
    "## Dataset 3"
   ]
  },
  {
   "cell_type": "code",
   "execution_count": null,
   "id": "872deb7e",
   "metadata": {},
   "outputs": [],
   "source": [
    "!wget http://elki.dbs.ifi.lmu.de/datasets/snn/all-relevant/20d.csv.gz"
   ]
  },
  {
   "cell_type": "code",
   "execution_count": null,
   "id": "bea1a183",
   "metadata": {},
   "outputs": [],
   "source": [
    "!gzip -d 20d.csv.gz"
   ]
  },
  {
   "cell_type": "code",
   "execution_count": 28,
   "id": "92666275",
   "metadata": {},
   "outputs": [],
   "source": [
    "X_20 = np.empty((10000, 20))\n",
    "Y_20 = np.empty((10000, 1), dtype = int)\n",
    "with open('20d.csv') as csvfile:\n",
    "    reader = csv.reader(csvfile, delimiter=' ')\n",
    "    for i, row in enumerate(reader):\n",
    "        X_20[i] = np.array(row[:-1], dtype=np.float32)\n",
    "        Y_20[i] = np.array(row[-1][1:])"
   ]
  },
  {
   "cell_type": "code",
   "execution_count": 29,
   "id": "e6fe2e79",
   "metadata": {},
   "outputs": [],
   "source": [
    "for i, arr in enumerate(X_20):\n",
    "    X_20[i] = np.round(arr, 5)"
   ]
  },
  {
   "cell_type": "code",
   "execution_count": 30,
   "id": "27eff8a2",
   "metadata": {},
   "outputs": [],
   "source": [
    "nmis, _, _ = compare_elki(10, 0.4, X_20)"
   ]
  },
  {
   "cell_type": "code",
   "execution_count": 31,
   "id": "9631b767",
   "metadata": {},
   "outputs": [
    {
     "name": "stdout",
     "output_type": "stream",
     "text": [
      "Average nmi of our clustering compared to elki: 0.9993178656162137\n"
     ]
    }
   ],
   "source": [
    "print(f\"Average nmi of our clustering compared to elki: {np.mean(nmis)}\")"
   ]
  },
  {
   "cell_type": "markdown",
   "id": "25b0c9c0",
   "metadata": {},
   "source": [
    "## Dataset 4"
   ]
  },
  {
   "cell_type": "code",
   "execution_count": 52,
   "id": "7ddf74ed",
   "metadata": {},
   "outputs": [
    {
     "name": "stdout",
     "output_type": "stream",
     "text": [
      "--2022-11-26 17:59:41--  http://elki.dbs.ifi.lmu.de/datasets/snn/10-relevant/40d.csv.gz\n",
      "Resolving elki.dbs.ifi.lmu.de (elki.dbs.ifi.lmu.de)... 129.187.228.14\n",
      "Connecting to elki.dbs.ifi.lmu.de (elki.dbs.ifi.lmu.de)|129.187.228.14|:80... connected.\n",
      "HTTP request sent, awaiting response... 200 OK\n",
      "Length: 2936528 (2.8M) [application/octet-stream]\n",
      "Saving to: ‘40d.csv.gz’\n",
      "\n",
      "40d.csv.gz          100%[===================>]   2.80M  2.07MB/s    in 1.4s    \n",
      "\n",
      "2022-11-26 17:59:43 (2.07 MB/s) - ‘40d.csv.gz’ saved [2936528/2936528]\n",
      "\n"
     ]
    }
   ],
   "source": [
    "!wget http://elki.dbs.ifi.lmu.de/datasets/snn/10-relevant/40d.csv.gz"
   ]
  },
  {
   "cell_type": "code",
   "execution_count": 53,
   "id": "83119d43",
   "metadata": {},
   "outputs": [],
   "source": [
    "!gzip -d 40d.csv.gz"
   ]
  },
  {
   "cell_type": "code",
   "execution_count": 160,
   "id": "927320a3",
   "metadata": {},
   "outputs": [],
   "source": [
    "X_40 = np.empty((10000, 40))\n",
    "Y_40 = np.empty((10000, 1), dtype = int)\n",
    "with open('40d.csv') as csvfile:\n",
    "    reader = csv.reader(csvfile, delimiter=' ')\n",
    "    for i, row in enumerate(reader):\n",
    "        X_40[i] = np.array(row[:-1], dtype=np.float32)\n",
    "        Y_40[i] = np.array(row[-1][1:])"
   ]
  },
  {
   "cell_type": "code",
   "execution_count": 161,
   "id": "ac593c5d",
   "metadata": {},
   "outputs": [],
   "source": [
    "for i, arr in enumerate(X_40):\n",
    "    X_40[i] = np.round(arr, 5)"
   ]
  },
  {
   "cell_type": "code",
   "execution_count": 165,
   "id": "5fc1a951",
   "metadata": {},
   "outputs": [],
   "source": [
    "_, nmis, _, _ = compare_elki(10, 0.15, X_40)"
   ]
  },
  {
   "cell_type": "code",
   "execution_count": 167,
   "id": "2d161c8c",
   "metadata": {
    "scrolled": true
   },
   "outputs": [
    {
     "name": "stdout",
     "output_type": "stream",
     "text": [
      "Average nmi of our clustering compared to elki: 0.9812578548662729\n"
     ]
    }
   ],
   "source": [
    "print(f\"Average nmi of our clustering compared to elki: {np.mean(nmis)}\")"
   ]
  },
  {
   "cell_type": "markdown",
   "id": "28e6b151",
   "metadata": {},
   "source": [
    "In conclusion, our algorithm mostly matches the output of the ELKI reference. Small differences can possibly be explained by rounding errors introduced by rounding or different floating point representations in the Java and Python implementations."
   ]
  }
 ],
 "metadata": {
  "kernelspec": {
   "display_name": "Python 3 (ipykernel)",
   "language": "python",
   "name": "python3"
  },
  "language_info": {
   "codemirror_mode": {
    "name": "ipython",
    "version": 3
   },
   "file_extension": ".py",
   "mimetype": "text/x-python",
   "name": "python",
   "nbconvert_exporter": "python",
   "pygments_lexer": "ipython3",
   "version": "3.8.13"
  }
 },
 "nbformat": 4,
 "nbformat_minor": 5
}
