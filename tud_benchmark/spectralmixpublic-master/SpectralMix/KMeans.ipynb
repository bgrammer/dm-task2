{
 "cells": [
  {
   "cell_type": "code",
   "execution_count": null,
   "metadata": {},
   "outputs": [],
   "source": [
    "import numpy as np\n",
    "\n",
    "import pandas as pd\n",
    "from numpy import savetxt\n",
    "\n",
    "import scipy.io\n",
    "\n",
    "from sklearn.cluster import KMeans\n",
    "from sklearn.metrics import normalized_mutual_info_score, adjusted_rand_score\n",
    "\n",
    "def run_Kmeans(x, y, k=3, time=100, return_NMI=False):\n",
    "\n",
    "    x = np.array(x)\n",
    "    x = np.squeeze(x)\n",
    "    y = np.array(y)\n",
    "\n",
    "    if len(y.shape) > 1:\n",
    "        y = np.argmax(y, axis=1)\n",
    "\n",
    "    estimator = KMeans(n_clusters=k)\n",
    "    ARI_list = []  \n",
    "    NMI_list = []\n",
    "    if time:\n",
    "        for i in range(time):\n",
    "            estimator.fit(x, y)\n",
    "            y_pred = estimator.predict(x)\n",
    "            score = normalized_mutual_info_score(y, y_pred)\n",
    "            NMI_list.append(score)\n",
    "            s2 = adjusted_rand_score(y, y_pred)\n",
    "            ARI_list.append(s2)\n",
    "        \n",
    "        score = sum(NMI_list) / len(NMI_list)\n",
    "        s2 = sum(ARI_list) / len(ARI_list)\n",
    "        print('NMI (100 avg): {:.4f} , ARI (100 avg): {:.4f}'.format(score, s2))\n",
    "        \n",
    "        dfobjCoord = pd.DataFrame(data=y_pred)\n",
    "        np.savetxt('y_pred.txt', dfobjCoord.values, fmt='%i' )\n",
    "\n",
    "    else:\n",
    "        estimator.fit(x, y)\n",
    "        y_pred = estimator.predict(x)\n",
    "        score = normalized_mutual_info_score(y, y_pred)\n",
    "        print(\"NMI on all label data: {:.5f}\".format(score))\n",
    "    if return_NMI:\n",
    "        dfobjCoord = pd.DataFrame(data=y_pred)\n",
    "        np.savetxt('y_pred.txt', dfobjCoord.values, fmt='%i' )\n",
    "        \n",
    "        return score, s2"
   ]
  },
  {
   "cell_type": "code",
   "execution_count": null,
   "metadata": {},
   "outputs": [],
   "source": [
    "dataset = \"acm\"\n",
    "path = \"embeddings/\"\n",
    "filename = 'objCoord-'+dataset+'-9D-100e15.mat'\n",
    "\n",
    "X = scipy.io.loadmat(path + filename)['objCoord']\n",
    "\n",
    "#flickr clusters => 7; acm clusters => 3; dblp clusters => 3; imdb clusters => 3; brainA ^ brainH clusters => 6\n",
    "clusters = 3\n",
    "\n",
    "path2 = 'data/'+dataset+'/'\n",
    "Y = np.loadtxt(path2 + \"ground_truth.txt\")"
   ]
  },
  {
   "cell_type": "code",
   "execution_count": null,
   "metadata": {},
   "outputs": [],
   "source": [
    "run_Kmeans(X,Y, k=clusters)"
   ]
  }
 ],
 "metadata": {
  "kernelspec": {
   "display_name": "Python 3 (ipykernel)",
   "language": "python",
   "name": "python3"
  },
  "language_info": {
   "codemirror_mode": {
    "name": "ipython",
    "version": 3
   },
   "file_extension": ".py",
   "mimetype": "text/x-python",
   "name": "python",
   "nbconvert_exporter": "python",
   "pygments_lexer": "ipython3",
   "version": "3.8.13"
  }
 },
 "nbformat": 4,
 "nbformat_minor": 4
}
