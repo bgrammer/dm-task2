{
 "cells": [
  {
   "cell_type": "markdown",
   "id": "94e73a3e",
   "metadata": {},
   "source": [
    "# Data Mining: Programming Assignment - Task - 1\n",
    "## Implementation of the CLIQUE algorithm and exploratory data analysis of the MSRC-21 data set\n",
    "### Team 1\n",
    "Frauenberger Fabian, Grammer Benedikt, Sabo Filip, Tonelli Daniel Linus\n",
    "***"
   ]
  },
  {
   "cell_type": "markdown",
   "id": "d949c020",
   "metadata": {},
   "source": [
    "# The CLIQUE algorithm\n",
    "\n",
    "Clique is a grid-based and density-based subspace clustering algorithm. A grid is placed over the featurespace and a grid cell is called a unit. The number of units per dimension is defined by a parameter tau. All units are equally sized. The denity of a unit is calculated by counting the number of points.\n",
    "\n",
    "The algorithm starts by finding one dimensional dense units and clusters. To find higher dimensional units the downward closure principle is used. A k dimensional unit can only be dense if all its k-1 dimensional projections are dense."
   ]
  },
  {
   "cell_type": "markdown",
   "id": "50283413",
   "metadata": {},
   "source": [
    "## Documentation\n",
    "\n",
    "### How to run the code?\n",
    "\n",
    "In order to run the code just import the class 'Clique' from the py-file. Recent versions of Numpy and Scipy have to be installed.\n"
   ]
  },
  {
   "cell_type": "code",
   "execution_count": null,
   "id": "b321ef13",
   "metadata": {},
   "outputs": [],
   "source": [
    "from clique import Clique"
   ]
  },
  {
   "cell_type": "markdown",
   "id": "37fc8b0c",
   "metadata": {},
   "source": [
    "### Methods\n",
    "**Constructor**\n",
    "\n",
    "- *Clique(xi, tau, data)*: returns an instance of Clique\n",
    "\n",
    "&emsp; Parameters:\n",
    "\n",
    "&emsp;&emsp;- xi (int): Number of grids the data gets separated into\n",
    "\n",
    "&emsp;&emsp;- tau (float): Density threshold (in percentage of total number of samples in dataset or as absolute number)\n",
    "\n",
    "&emsp;&emsp;- data (np.ndarray): Data on which Clique should be applied\n",
    "\n",
    "**Other important methods:**\n",
    "\n",
    "- *process()*: applies the Clique algorithm on the given dataset \n",
    "- *get_labels()*: returns the labels of all datapoints in all subspaces containing clusters\n",
    "- *get_labels_for_subspace(subspace)*: returns the labels of all datapoints for a given subspace (only if the subspace contains a cluster)\n",
    "\n",
    "&emsp; Parameters:\n",
    "\n",
    "&emsp;&emsp; - subspace: List\\[int\\]\n",
    "\n",
    "&emsp;&emsp;- Dimensions of wanted subspace\n",
    "\n",
    "### Implementation\n",
    "\n",
    "We tried to implement the algorithm as described in the paper \"Automatic Subspace Clustering of High Dimensional Data for Data Mining Applications\" by Agrawal, Gehrke et al. \\[1\\]\n",
    "\n",
    "The algorithm is seperated into two steps. First we need to find the subspaces that contain clusters. The second part of the algorithm is identifying all maximal clusters given the dense units of each subspace that contain clusters.\n",
    "\n",
    "We start by transforming the data into points in the range between 0 and 1. After that we divide the data by xi to obtain the units in which the datapoints lie. Using the transformed data instead of the original data we can start processing the algorithm.\n",
    "\n",
    "First we find all one dimensional dense units and clusters. Then we search for higher dimensional dense units until no dense units in a subspace of a certain dimensionality are found, or all subsets of dimensions have been visited. To generate the k-dimensional candidates the method join_dense_units() is used, where we combine each k-1 dimensional dense unit that have k-2 dimensions in common and control if the length of the joined dense unit is k. If this is the case we compare if they share not only the same subspace but also the same unit in the subspace that they have in common. In order to prune the candidate units we use the method prune() which has a list of the k-1 dimensional dense units and the k-dimensional candidate units as parameters. Then we check for each candidate the k-1 dimensional projections and delete the unit from the dataset if not all projections are in the k-1 dimensional dense units. Pruning the candidate set is important to reduce the number of condidates. Because of the reverse implication of the downward closure principle, that a unit can only be dense, if all its lower dimensional projections are dense, we do not need to check these units, as they can not be dense. We find higher dimensional dense unit by counting the number of datapoints in the unit. These candidates that exceed a threshold are considered dense.\n",
    "\n",
    "In CLIQUE clusters are connected dense units. We generate an adjacency matrix to find the neighbours of dense units. The adjacency matrix is then used in the scipy-method connected_components to get the connected dense units that represent the clusters in each subspace. Then we just searched for all points that lie in a specific cluster and save the corresponding subspace together with the list of points in a cluster in that subspace.\n",
    "\n",
    "To get the labels of points there are two methods, get_labels() and get_labels_for_subspace(subspace). The first one returns all labels for all subspaces, while the second one only return the labels of one subspace. Noise points have the label -1.\n",
    "\n",
    "### References\n",
    "\n",
    "\\[1\\] https://dl.acm.org/doi/abs/10.1145/276304.276314"
   ]
  }
 ],
 "metadata": {
  "kernelspec": {
   "display_name": "Python 3 (ipykernel)",
   "language": "python",
   "name": "python3"
  },
  "language_info": {
   "codemirror_mode": {
    "name": "ipython",
    "version": 3
   },
   "file_extension": ".py",
   "mimetype": "text/x-python",
   "name": "python",
   "nbconvert_exporter": "python",
   "pygments_lexer": "ipython3",
   "version": "3.8.13"
  }
 },
 "nbformat": 4,
 "nbformat_minor": 5
}
